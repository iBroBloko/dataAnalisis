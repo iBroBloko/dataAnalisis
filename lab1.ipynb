{
  "metadata": {
    "language_info": {
      "codemirror_mode": {
        "name": "python",
        "version": 3
      },
      "file_extension": ".py",
      "mimetype": "text/x-python",
      "name": "python",
      "nbconvert_exporter": "python",
      "pygments_lexer": "ipython3",
      "version": "3.8"
    },
    "kernelspec": {
      "name": "python",
      "display_name": "Python (Pyodide)",
      "language": "python"
    }
  },
  "nbformat_minor": 4,
  "nbformat": 4,
  "cells": [
    {
      "cell_type": "code",
      "source": "import pandas as pd\nimport numpy as np\nimport matplotlib.pyplot as plt\nimport pandas as pd\nimport matplotlib.pyplot as plt\nfrom sklearn.tree import DecisionTreeClassifier, plot_tree\nimport seaborn as sns\n\n",
      "metadata": {
        "trusted": true
      },
      "execution_count": null,
      "outputs": []
    },
    {
      "cell_type": "code",
      "source": "df = pd.read_csv('weatherAUS.csv')",
      "metadata": {
        "trusted": true
      },
      "execution_count": 2,
      "outputs": []
    },
    {
      "cell_type": "code",
      "source": "df.shape",
      "metadata": {
        "trusted": true
      },
      "execution_count": 3,
      "outputs": [
        {
          "execution_count": 3,
          "output_type": "execute_result",
          "data": {
            "text/plain": "(145460, 23)"
          },
          "metadata": {}
        }
      ]
    },
    {
      "cell_type": "code",
      "source": "df.columns",
      "metadata": {
        "trusted": true
      },
      "execution_count": 4,
      "outputs": [
        {
          "execution_count": 4,
          "output_type": "execute_result",
          "data": {
            "text/plain": "Index(['Date', 'Location', 'MinTemp', 'MaxTemp', 'Rainfall', 'Evaporation',\n       'Sunshine', 'WindGustDir', 'WindGustSpeed', 'WindDir9am', 'WindDir3pm',\n       'WindSpeed9am', 'WindSpeed3pm', 'Humidity9am', 'Humidity3pm',\n       'Pressure9am', 'Pressure3pm', 'Cloud9am', 'Cloud3pm', 'Temp9am',\n       'Temp3pm', 'RainToday', 'RainTomorrow'],\n      dtype='object')"
          },
          "metadata": {}
        }
      ]
    },
    {
      "cell_type": "code",
      "source": "df.head",
      "metadata": {
        "trusted": true
      },
      "execution_count": 5,
      "outputs": [
        {
          "execution_count": 5,
          "output_type": "execute_result",
          "data": {
            "text/plain": "<bound method NDFrame.head of               Date Location  MinTemp  MaxTemp  Rainfall  Evaporation  \\\n0       2008-12-01   Albury     13.4     22.9       0.6          NaN   \n1       2008-12-02   Albury      7.4     25.1       0.0          NaN   \n2       2008-12-03   Albury     12.9     25.7       0.0          NaN   \n3       2008-12-04   Albury      9.2     28.0       0.0          NaN   \n4       2008-12-05   Albury     17.5     32.3       1.0          NaN   \n...            ...      ...      ...      ...       ...          ...   \n145455  2017-06-21    Uluru      2.8     23.4       0.0          NaN   \n145456  2017-06-22    Uluru      3.6     25.3       0.0          NaN   \n145457  2017-06-23    Uluru      5.4     26.9       0.0          NaN   \n145458  2017-06-24    Uluru      7.8     27.0       0.0          NaN   \n145459  2017-06-25    Uluru     14.9      NaN       0.0          NaN   \n\n        Sunshine WindGustDir  WindGustSpeed WindDir9am  ... Humidity9am  \\\n0            NaN           W           44.0          W  ...        71.0   \n1            NaN         WNW           44.0        NNW  ...        44.0   \n2            NaN         WSW           46.0          W  ...        38.0   \n3            NaN          NE           24.0         SE  ...        45.0   \n4            NaN           W           41.0        ENE  ...        82.0   \n...          ...         ...            ...        ...  ...         ...   \n145455       NaN           E           31.0         SE  ...        51.0   \n145456       NaN         NNW           22.0         SE  ...        56.0   \n145457       NaN           N           37.0         SE  ...        53.0   \n145458       NaN          SE           28.0        SSE  ...        51.0   \n145459       NaN         NaN            NaN        ESE  ...        62.0   \n\n        Humidity3pm  Pressure9am  Pressure3pm  Cloud9am  Cloud3pm  Temp9am  \\\n0              22.0       1007.7       1007.1       8.0       NaN     16.9   \n1              25.0       1010.6       1007.8       NaN       NaN     17.2   \n2              30.0       1007.6       1008.7       NaN       2.0     21.0   \n3              16.0       1017.6       1012.8       NaN       NaN     18.1   \n4              33.0       1010.8       1006.0       7.0       8.0     17.8   \n...             ...          ...          ...       ...       ...      ...   \n145455         24.0       1024.6       1020.3       NaN       NaN     10.1   \n145456         21.0       1023.5       1019.1       NaN       NaN     10.9   \n145457         24.0       1021.0       1016.8       NaN       NaN     12.5   \n145458         24.0       1019.4       1016.5       3.0       2.0     15.1   \n145459         36.0       1020.2       1017.9       8.0       8.0     15.0   \n\n        Temp3pm  RainToday  RainTomorrow  \n0          21.8         No            No  \n1          24.3         No            No  \n2          23.2         No            No  \n3          26.5         No            No  \n4          29.7         No            No  \n...         ...        ...           ...  \n145455     22.4         No            No  \n145456     24.5         No            No  \n145457     26.1         No            No  \n145458     26.0         No            No  \n145459     20.9         No           NaN  \n\n[145460 rows x 23 columns]>"
          },
          "metadata": {}
        }
      ]
    },
    {
      "cell_type": "code",
      "source": "df = df.dropna()",
      "metadata": {
        "trusted": true
      },
      "execution_count": 6,
      "outputs": []
    },
    {
      "cell_type": "code",
      "source": "X = df.drop(['RainTomorrow'], axis = 1)\nY = df['RainTomorrow']",
      "metadata": {
        "trusted": true
      },
      "execution_count": 7,
      "outputs": []
    },
    {
      "cell_type": "code",
      "source": "X.head",
      "metadata": {
        "trusted": true
      },
      "execution_count": 8,
      "outputs": [
        {
          "execution_count": 8,
          "output_type": "execute_result",
          "data": {
            "text/plain": "<bound method NDFrame.head of               Date Location  MinTemp  MaxTemp  Rainfall  Evaporation  \\\n6049    2009-01-01    Cobar     17.9     35.2       0.0         12.0   \n6050    2009-01-02    Cobar     18.4     28.9       0.0         14.8   \n6052    2009-01-04    Cobar     19.4     37.6       0.0         10.8   \n6053    2009-01-05    Cobar     21.9     38.4       0.0         11.4   \n6054    2009-01-06    Cobar     24.2     41.0       0.0         11.2   \n...            ...      ...      ...      ...       ...          ...   \n142298  2017-06-20   Darwin     19.3     33.4       0.0          6.0   \n142299  2017-06-21   Darwin     21.2     32.6       0.0          7.6   \n142300  2017-06-22   Darwin     20.7     32.8       0.0          5.6   \n142301  2017-06-23   Darwin     19.5     31.8       0.0          6.2   \n142302  2017-06-24   Darwin     20.2     31.7       0.0          5.6   \n\n        Sunshine WindGustDir  WindGustSpeed WindDir9am  ... WindSpeed3pm  \\\n6049        12.3         SSW           48.0        ENE  ...         20.0   \n6050        13.0           S           37.0        SSE  ...         19.0   \n6052        10.6         NNE           46.0        NNE  ...         15.0   \n6053        12.2         WNW           31.0        WNW  ...          6.0   \n6054         8.4         WNW           35.0         NW  ...         13.0   \n...          ...         ...            ...        ...  ...          ...   \n142298      11.0         ENE           35.0         SE  ...         20.0   \n142299       8.6           E           37.0         SE  ...         11.0   \n142300      11.0           E           33.0          E  ...         11.0   \n142301      10.6         ESE           26.0         SE  ...         17.0   \n142302      10.7         ENE           30.0        ENE  ...          7.0   \n\n        Humidity9am  Humidity3pm  Pressure9am  Pressure3pm  Cloud9am  \\\n6049           20.0         13.0       1006.3       1004.4       2.0   \n6050           30.0          8.0       1012.9       1012.1       1.0   \n6052           42.0         22.0       1012.3       1009.2       1.0   \n6053           37.0         22.0       1012.7       1009.1       1.0   \n6054           19.0         15.0       1010.7       1007.4       1.0   \n...             ...          ...          ...          ...       ...   \n142298         63.0         32.0       1013.9       1010.5       0.0   \n142299         56.0         28.0       1014.6       1011.2       7.0   \n142300         46.0         23.0       1015.3       1011.8       0.0   \n142301         62.0         58.0       1014.9       1010.7       1.0   \n142302         73.0         32.0       1013.9       1009.7       6.0   \n\n        Cloud3pm  Temp9am  Temp3pm  RainToday  \n6049         5.0     26.6     33.4         No  \n6050         1.0     20.3     27.0         No  \n6052         6.0     28.7     34.9         No  \n6053         5.0     29.1     35.6         No  \n6054         6.0     33.6     37.6         No  \n...          ...      ...      ...        ...  \n142298       1.0     24.5     32.3         No  \n142299       0.0     24.8     32.0         No  \n142300       0.0     24.8     32.1         No  \n142301       1.0     24.8     29.2         No  \n142302       5.0     25.4     31.0         No  \n\n[56420 rows x 22 columns]>"
          },
          "metadata": {}
        }
      ]
    },
    {
      "cell_type": "code",
      "source": "# Виведення кореляційної матриці\ncorr_matrix = df.corr()\n\n# Побудова графіку кореляції між ознаками\nsns.heatmap(corr_matrix, annot=True, cmap='coolwarm')\nplt.show()",
      "metadata": {
        "trusted": true
      },
      "execution_count": 9,
      "outputs": [
        {
          "name": "stderr",
          "text": "<ipython-input-9-5c0f78734aae>:2: FutureWarning: The default value of numeric_only in DataFrame.corr is deprecated. In a future version, it will default to False. Select only valid columns or specify the value of numeric_only to silence this warning.\n  corr_matrix = df.corr()\n",
          "output_type": "stream"
        },
        {
          "ename": "<class 'NameError'>",
          "evalue": "name 'sns' is not defined",
          "traceback": [
            "\u001b[0;31m---------------------------------------------------------------------------\u001b[0m",
            "\u001b[0;31mNameError\u001b[0m                                 Traceback (most recent call last)",
            "Cell \u001b[0;32mIn[9], line 5\u001b[0m\n\u001b[1;32m      2\u001b[0m corr_matrix \u001b[38;5;241m=\u001b[39m df\u001b[38;5;241m.\u001b[39mcorr()\n\u001b[1;32m      4\u001b[0m \u001b[38;5;66;03m# Побудова графіку кореляції між ознаками\u001b[39;00m\n\u001b[0;32m----> 5\u001b[0m \u001b[43msns\u001b[49m\u001b[38;5;241m.\u001b[39mheatmap(corr_matrix, annot\u001b[38;5;241m=\u001b[39m\u001b[38;5;28;01mTrue\u001b[39;00m, cmap\u001b[38;5;241m=\u001b[39m\u001b[38;5;124m'\u001b[39m\u001b[38;5;124mcoolwarm\u001b[39m\u001b[38;5;124m'\u001b[39m)\n\u001b[1;32m      6\u001b[0m plt\u001b[38;5;241m.\u001b[39mshow()\n",
            "\u001b[0;31mNameError\u001b[0m: name 'sns' is not defined"
          ],
          "output_type": "error"
        }
      ]
    },
    {
      "cell_type": "code",
      "source": "",
      "metadata": {},
      "execution_count": null,
      "outputs": []
    }
  ]
}