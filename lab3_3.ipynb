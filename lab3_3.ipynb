{
 "cells": [
  {
   "cell_type": "code",
   "execution_count": 1,
   "metadata": {},
   "outputs": [
    {
     "name": "stderr",
     "output_type": "stream",
     "text": [
      "C:\\Users\\dmitr\\AppData\\Local\\Packages\\PythonSoftwareFoundation.Python.3.9_qbz5n2kfra8p0\\LocalCache\\local-packages\\Python39\\site-packages\\scipy\\__init__.py:146: UserWarning: A NumPy version >=1.16.5 and <1.23.0 is required for this version of SciPy (detected version 1.26.2\n",
      "  warnings.warn(f\"A NumPy version >={np_minversion} and <{np_maxversion}\"\n"
     ]
    },
    {
     "name": "stdout",
     "output_type": "stream",
     "text": [
      "WARNING:tensorflow:From C:\\Users\\dmitr\\AppData\\Local\\Packages\\PythonSoftwareFoundation.Python.3.9_qbz5n2kfra8p0\\LocalCache\\local-packages\\Python39\\site-packages\\keras\\src\\losses.py:2976: The name tf.losses.sparse_softmax_cross_entropy is deprecated. Please use tf.compat.v1.losses.sparse_softmax_cross_entropy instead.\n",
      "\n"
     ]
    }
   ],
   "source": [
    "import pandas as pd\n",
    "from keras.preprocessing.text import Tokenizer\n",
    "from keras.preprocessing.sequence import pad_sequences\n",
    "from keras.models import Sequential\n",
    "from keras.layers import Embedding, LSTM, Dense\n",
    "from keras.utils import to_categorical\n",
    "from sklearn.model_selection import train_test_split"
   ]
  },
  {
   "cell_type": "code",
   "execution_count": 2,
   "metadata": {},
   "outputs": [],
   "source": [
    "# Завантаження даних\n",
    "data = pd.read_csv('Corona_NLP_train.csv', encoding='latin1')"
   ]
  },
  {
   "cell_type": "code",
   "execution_count": 3,
   "metadata": {},
   "outputs": [],
   "source": [
    "# Перетворення тексту в послідовності\n",
    "tokenizer = Tokenizer(num_words=5000)\n",
    "tokenizer.fit_on_texts(data['OriginalTweet'])\n",
    "sequences = tokenizer.texts_to_sequences(data['OriginalTweet'])"
   ]
  },
  {
   "cell_type": "code",
   "execution_count": 4,
   "metadata": {},
   "outputs": [],
   "source": [
    "# Падінг послідовностей\n",
    "X = pad_sequences(sequences, maxlen=100)"
   ]
  },
  {
   "cell_type": "code",
   "execution_count": 5,
   "metadata": {},
   "outputs": [],
   "source": [
    "# Перетворення міток в one-hot encoding\n",
    "y = to_categorical(data['Sentiment'].factorize()[0])"
   ]
  },
  {
   "cell_type": "code",
   "execution_count": 6,
   "metadata": {},
   "outputs": [],
   "source": [
    "# Розділення даних на тренувальні та тестові\n",
    "X_train, X_test, y_train, y_test = train_test_split(X, y, test_size=0.2)"
   ]
  },
  {
   "cell_type": "code",
   "execution_count": 7,
   "metadata": {},
   "outputs": [
    {
     "name": "stdout",
     "output_type": "stream",
     "text": [
      "WARNING:tensorflow:From C:\\Users\\dmitr\\AppData\\Local\\Packages\\PythonSoftwareFoundation.Python.3.9_qbz5n2kfra8p0\\LocalCache\\local-packages\\Python39\\site-packages\\keras\\src\\backend.py:873: The name tf.get_default_graph is deprecated. Please use tf.compat.v1.get_default_graph instead.\n",
      "\n"
     ]
    }
   ],
   "source": [
    "# Створення моделі\n",
    "model = Sequential()\n",
    "model.add(Embedding(5000, 64, input_length=100))\n",
    "model.add(LSTM(64))\n",
    "model.add(Dense(5, activation='softmax'))"
   ]
  },
  {
   "cell_type": "code",
   "execution_count": 8,
   "metadata": {},
   "outputs": [
    {
     "name": "stdout",
     "output_type": "stream",
     "text": [
      "WARNING:tensorflow:From C:\\Users\\dmitr\\AppData\\Local\\Packages\\PythonSoftwareFoundation.Python.3.9_qbz5n2kfra8p0\\LocalCache\\local-packages\\Python39\\site-packages\\keras\\src\\optimizers\\__init__.py:309: The name tf.train.Optimizer is deprecated. Please use tf.compat.v1.train.Optimizer instead.\n",
      "\n"
     ]
    }
   ],
   "source": [
    "# Компіляція моделі\n",
    "model.compile(optimizer='adam', loss='categorical_crossentropy', metrics=['accuracy'])"
   ]
  },
  {
   "cell_type": "code",
   "execution_count": 12,
   "metadata": {},
   "outputs": [
    {
     "name": "stdout",
     "output_type": "stream",
     "text": [
      "Epoch 1/10\n",
      "500/500 [==============================] - 25s 49ms/step - loss: 0.1571 - accuracy: 0.9538 - val_loss: 1.3413 - val_accuracy: 0.7133\n",
      "Epoch 2/10\n",
      "500/500 [==============================] - 25s 50ms/step - loss: 0.1844 - accuracy: 0.9438 - val_loss: 1.3358 - val_accuracy: 0.7125\n",
      "Epoch 3/10\n",
      "500/500 [==============================] - 25s 49ms/step - loss: 0.1416 - accuracy: 0.9589 - val_loss: 1.3774 - val_accuracy: 0.7100\n",
      "Epoch 4/10\n",
      "500/500 [==============================] - 25s 49ms/step - loss: 0.1557 - accuracy: 0.9506 - val_loss: 1.3588 - val_accuracy: 0.7049\n",
      "Epoch 5/10\n",
      "500/500 [==============================] - 25s 50ms/step - loss: 0.1212 - accuracy: 0.9630 - val_loss: 1.4869 - val_accuracy: 0.7091\n",
      "Epoch 6/10\n",
      "500/500 [==============================] - 25s 51ms/step - loss: 0.1379 - accuracy: 0.9576 - val_loss: 1.4665 - val_accuracy: 0.7083\n",
      "Epoch 7/10\n",
      "500/500 [==============================] - 25s 51ms/step - loss: 0.1071 - accuracy: 0.9692 - val_loss: 1.5380 - val_accuracy: 0.7044\n",
      "Epoch 8/10\n",
      "500/500 [==============================] - 26s 51ms/step - loss: 0.1220 - accuracy: 0.9634 - val_loss: 1.5555 - val_accuracy: 0.7015\n",
      "Epoch 9/10\n",
      "500/500 [==============================] - 26s 51ms/step - loss: 0.0883 - accuracy: 0.9740 - val_loss: 1.6962 - val_accuracy: 0.6911\n",
      "Epoch 10/10\n",
      "500/500 [==============================] - 25s 51ms/step - loss: 0.1108 - accuracy: 0.9672 - val_loss: 1.6259 - val_accuracy: 0.7027\n"
     ]
    },
    {
     "data": {
      "text/plain": [
       "<keras.src.callbacks.History at 0x1cff1b3bb20>"
      ]
     },
     "execution_count": 12,
     "metadata": {},
     "output_type": "execute_result"
    }
   ],
   "source": [
    "# Навчання моделі\n",
    "model.fit(X_train, y_train, steps_per_epoch = 500, epochs=10, batch_size=32, validation_data=(X_test, y_test))"
   ]
  }
 ],
 "metadata": {
  "kernelspec": {
   "display_name": "Python 3",
   "language": "python",
   "name": "python3"
  },
  "language_info": {
   "codemirror_mode": {
    "name": "ipython",
    "version": 3
   },
   "file_extension": ".py",
   "mimetype": "text/x-python",
   "name": "python",
   "nbconvert_exporter": "python",
   "pygments_lexer": "ipython3",
   "version": "3.9.13"
  }
 },
 "nbformat": 4,
 "nbformat_minor": 2
}
