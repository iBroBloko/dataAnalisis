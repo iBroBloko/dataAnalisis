{
 "cells": [
  {
   "cell_type": "code",
   "execution_count": 13,
   "metadata": {},
   "outputs": [],
   "source": [
    "from keras.models import Sequential\n",
    "from keras.layers import Conv2D, MaxPooling2D, Flatten, Dense\n",
    "from keras.preprocessing.image import ImageDataGenerator"
   ]
  },
  {
   "cell_type": "code",
   "execution_count": 14,
   "metadata": {},
   "outputs": [],
   "source": [
    "# Створення генератора зображень\n",
    "train_datagen = ImageDataGenerator(rescale = 1./255,\n",
    "                                   shear_range = 0.2,\n",
    "                                   zoom_range = 0.2,\n",
    "                                   horizontal_flip = True)\n",
    "\n",
    "test_datagen = ImageDataGenerator(rescale = 1./255)"
   ]
  },
  {
   "cell_type": "code",
   "execution_count": 15,
   "metadata": {},
   "outputs": [
    {
     "name": "stdout",
     "output_type": "stream",
     "text": [
      "Found 1000 images belonging to 5 classes.\n",
      "Found 1000 images belonging to 5 classes.\n"
     ]
    }
   ],
   "source": [
    "# Завантаження даних\n",
    "training_set = train_datagen.flow_from_directory('cats-breads',\n",
    "                                                 target_size = (64, 64),\n",
    "                                                 batch_size = 32,\n",
    "                                                 class_mode = 'categorical')\n",
    "\n",
    "test_set = test_datagen.flow_from_directory('cats-breads',\n",
    "                                            target_size = (64, 64),\n",
    "                                            batch_size = 32,\n",
    "                                            class_mode = 'categorical')"
   ]
  },
  {
   "cell_type": "code",
   "execution_count": 16,
   "metadata": {},
   "outputs": [],
   "source": [
    "# Створення моделі\n",
    "model = Sequential()\n",
    "model.add(Conv2D(32, (3, 3), input_shape = (64, 64, 3), activation = 'relu'))\n",
    "model.add(MaxPooling2D(pool_size = (2, 2)))\n",
    "model.add(Flatten())\n",
    "model.add(Dense(units = 128, activation = 'relu'))\n",
    "model.add(Dense(units = 5, activation = 'softmax'))"
   ]
  },
  {
   "cell_type": "code",
   "execution_count": 17,
   "metadata": {},
   "outputs": [],
   "source": [
    "# Компіляція моделі\n",
    "model.compile(optimizer = 'adam', loss = 'categorical_crossentropy', metrics = ['accuracy'])"
   ]
  },
  {
   "cell_type": "code",
   "execution_count": 12,
   "metadata": {},
   "outputs": [
    {
     "name": "stdout",
     "output_type": "stream",
     "text": [
      "Found 1000 images belonging to 5 classes.\n",
      "Found 1000 images belonging to 5 classes.\n",
      "Epoch 1/50\n"
     ]
    },
    {
     "name": "stderr",
     "output_type": "stream",
     "text": [
      "C:\\Users\\dmitr\\AppData\\Local\\Temp\\ipykernel_15836\\2783084032.py:36: UserWarning: `Model.fit_generator` is deprecated and will be removed in a future version. Please use `Model.fit`, which supports generators.\n",
      "  model.fit_generator(training_set,\n"
     ]
    },
    {
     "name": "stdout",
     "output_type": "stream",
     "text": [
      "32/32 [==============================] - ETA: 0s - loss: 2.0207 - accuracy: 0.2300WARNING:tensorflow:Your input ran out of data; interrupting training. Make sure that your dataset or generator can generate at least `steps_per_epoch * epochs` batches (in this case, 2000 batches). You may need to use the repeat() function when building your dataset.\n",
      "32/32 [==============================] - 8s 220ms/step - loss: 2.0207 - accuracy: 0.2300 - val_loss: 1.5345 - val_accuracy: 0.3430\n",
      "Epoch 2/50\n",
      "32/32 [==============================] - 5s 154ms/step - loss: 1.4726 - accuracy: 0.3870\n",
      "Epoch 3/50\n",
      "32/32 [==============================] - 5s 159ms/step - loss: 1.3203 - accuracy: 0.4080\n",
      "Epoch 4/50\n",
      "32/32 [==============================] - 5s 164ms/step - loss: 1.2083 - accuracy: 0.4970\n",
      "Epoch 5/50\n",
      "32/32 [==============================] - 5s 148ms/step - loss: 1.1054 - accuracy: 0.5420\n",
      "Epoch 6/50\n",
      "32/32 [==============================] - 4s 138ms/step - loss: 1.0756 - accuracy: 0.5670\n",
      "Epoch 7/50\n",
      "32/32 [==============================] - 4s 135ms/step - loss: 1.0293 - accuracy: 0.5700\n",
      "Epoch 8/50\n",
      "32/32 [==============================] - 4s 137ms/step - loss: 0.9747 - accuracy: 0.6330\n",
      "Epoch 9/50\n",
      "32/32 [==============================] - 4s 136ms/step - loss: 0.9435 - accuracy: 0.6290\n",
      "Epoch 10/50\n",
      "32/32 [==============================] - 5s 142ms/step - loss: 0.9126 - accuracy: 0.6480\n",
      "Epoch 11/50\n",
      "32/32 [==============================] - 5s 141ms/step - loss: 0.9098 - accuracy: 0.6310\n",
      "Epoch 12/50\n",
      "32/32 [==============================] - 5s 140ms/step - loss: 0.9088 - accuracy: 0.6400\n",
      "Epoch 13/50\n",
      "32/32 [==============================] - 4s 138ms/step - loss: 0.8479 - accuracy: 0.6760\n",
      "Epoch 14/50\n",
      "32/32 [==============================] - 5s 139ms/step - loss: 0.8128 - accuracy: 0.6760\n",
      "Epoch 15/50\n",
      "32/32 [==============================] - 4s 138ms/step - loss: 0.7812 - accuracy: 0.6980\n",
      "Epoch 16/50\n",
      "32/32 [==============================] - 4s 136ms/step - loss: 0.7849 - accuracy: 0.7060\n",
      "Epoch 17/50\n",
      "32/32 [==============================] - 4s 138ms/step - loss: 0.7363 - accuracy: 0.7350\n",
      "Epoch 18/50\n",
      "32/32 [==============================] - 5s 142ms/step - loss: 0.7316 - accuracy: 0.7520\n",
      "Epoch 19/50\n",
      "32/32 [==============================] - 4s 138ms/step - loss: 0.6687 - accuracy: 0.7620\n",
      "Epoch 20/50\n",
      "32/32 [==============================] - 5s 141ms/step - loss: 0.6742 - accuracy: 0.7410\n",
      "Epoch 21/50\n",
      "32/32 [==============================] - 5s 142ms/step - loss: 0.6328 - accuracy: 0.7740\n",
      "Epoch 22/50\n",
      "32/32 [==============================] - 4s 136ms/step - loss: 0.6255 - accuracy: 0.7740\n",
      "Epoch 23/50\n",
      "32/32 [==============================] - 4s 138ms/step - loss: 0.6468 - accuracy: 0.7640\n",
      "Epoch 24/50\n",
      "32/32 [==============================] - 4s 139ms/step - loss: 0.6001 - accuracy: 0.7780\n",
      "Epoch 25/50\n",
      "32/32 [==============================] - 5s 142ms/step - loss: 0.5750 - accuracy: 0.8020\n",
      "Epoch 26/50\n",
      "32/32 [==============================] - 5s 153ms/step - loss: 0.5619 - accuracy: 0.8080\n",
      "Epoch 27/50\n",
      "32/32 [==============================] - 5s 153ms/step - loss: 0.5273 - accuracy: 0.8150\n",
      "Epoch 28/50\n",
      "32/32 [==============================] - 5s 143ms/step - loss: 0.5028 - accuracy: 0.8370\n",
      "Epoch 29/50\n",
      "32/32 [==============================] - 5s 150ms/step - loss: 0.5076 - accuracy: 0.8130\n",
      "Epoch 30/50\n",
      "32/32 [==============================] - 5s 163ms/step - loss: 0.4724 - accuracy: 0.8370\n",
      "Epoch 31/50\n",
      "32/32 [==============================] - 5s 161ms/step - loss: 0.4497 - accuracy: 0.8370\n",
      "Epoch 32/50\n",
      "32/32 [==============================] - 4s 138ms/step - loss: 0.4522 - accuracy: 0.8370\n",
      "Epoch 33/50\n",
      "32/32 [==============================] - 4s 135ms/step - loss: 0.4428 - accuracy: 0.8540\n",
      "Epoch 34/50\n",
      "32/32 [==============================] - 5s 152ms/step - loss: 0.4281 - accuracy: 0.8400\n",
      "Epoch 35/50\n",
      "32/32 [==============================] - 5s 151ms/step - loss: 0.4057 - accuracy: 0.8490\n",
      "Epoch 36/50\n",
      "32/32 [==============================] - 5s 151ms/step - loss: 0.4441 - accuracy: 0.8450\n",
      "Epoch 37/50\n",
      "32/32 [==============================] - 5s 156ms/step - loss: 0.4053 - accuracy: 0.8570\n",
      "Epoch 38/50\n",
      "32/32 [==============================] - 5s 144ms/step - loss: 0.3512 - accuracy: 0.8860\n",
      "Epoch 39/50\n",
      "32/32 [==============================] - 5s 143ms/step - loss: 0.3623 - accuracy: 0.8730\n",
      "Epoch 40/50\n",
      "32/32 [==============================] - 4s 138ms/step - loss: 0.3458 - accuracy: 0.8840\n",
      "Epoch 41/50\n",
      "32/32 [==============================] - 5s 140ms/step - loss: 0.3243 - accuracy: 0.9090\n",
      "Epoch 42/50\n",
      "32/32 [==============================] - 5s 149ms/step - loss: 0.3022 - accuracy: 0.8980\n",
      "Epoch 43/50\n",
      "32/32 [==============================] - 5s 142ms/step - loss: 0.2993 - accuracy: 0.8920\n",
      "Epoch 44/50\n",
      "32/32 [==============================] - 5s 146ms/step - loss: 0.2761 - accuracy: 0.9120\n",
      "Epoch 45/50\n",
      "32/32 [==============================] - 5s 147ms/step - loss: 0.2928 - accuracy: 0.9040\n",
      "Epoch 46/50\n",
      "32/32 [==============================] - 5s 141ms/step - loss: 0.2598 - accuracy: 0.9160\n",
      "Epoch 47/50\n",
      "32/32 [==============================] - 5s 145ms/step - loss: 0.2734 - accuracy: 0.9100\n",
      "Epoch 48/50\n",
      "32/32 [==============================] - 5s 141ms/step - loss: 0.2315 - accuracy: 0.9210\n",
      "Epoch 49/50\n",
      "32/32 [==============================] - 5s 144ms/step - loss: 0.2393 - accuracy: 0.9210\n",
      "Epoch 50/50\n",
      "32/32 [==============================] - 5s 149ms/step - loss: 0.2641 - accuracy: 0.9070\n"
     ]
    },
    {
     "data": {
      "text/plain": [
       "<keras.callbacks.History at 0x1c5e7850250>"
      ]
     },
     "execution_count": 12,
     "metadata": {},
     "output_type": "execute_result"
    }
   ],
   "source": [
    "# Навчання моделі\n",
    "model.fit_generator(training_set,\n",
    "                         steps_per_epoch = 32,\n",
    "                         epochs = 50,\n",
    "                         validation_data = test_set,\n",
    "                         validation_steps = 2000)\n"
   ]
  }
 ],
 "metadata": {
  "kernelspec": {
   "display_name": "Python 3",
   "language": "python",
   "name": "python3"
  },
  "language_info": {
   "codemirror_mode": {
    "name": "ipython",
    "version": 3
   },
   "file_extension": ".py",
   "mimetype": "text/x-python",
   "name": "python",
   "nbconvert_exporter": "python",
   "pygments_lexer": "ipython3",
   "version": "3.9.13"
  }
 },
 "nbformat": 4,
 "nbformat_minor": 2
}
